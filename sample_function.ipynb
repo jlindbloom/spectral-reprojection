{
 "cells": [
  {
   "cell_type": "code",
   "execution_count": 2,
   "metadata": {},
   "outputs": [],
   "source": [
    "import numpy as np\n",
    "import matplotlib.pyplot as plt"
   ]
  },
  {
   "cell_type": "markdown",
   "metadata": {},
   "source": [
    "# Sample function to discrete nodes"
   ]
  },
  {
   "cell_type": "code",
   "execution_count": 3,
   "metadata": {},
   "outputs": [],
   "source": [
    "def sample_function(f, N=20):\n",
    "    \"\"\"Samples the function f at N points {x_j}, where\n",
    "        x_j = -1 + 2(j-1)/N.\n",
    "    \"\"\"\n",
    "    xgrid = np.asarray([-1 + 2*(j-1)/N for j in range(1,N+1)])\n",
    "    return xgrid, f(xgrid)"
   ]
  },
  {
   "cell_type": "code",
   "execution_count": 4,
   "metadata": {},
   "outputs": [],
   "source": [
    "L = 1\n",
    "f = lambda x: x # analytic but not periodic\n",
    "xs, ys = sample_function(f)"
   ]
  },
  {
   "cell_type": "code",
   "execution_count": 5,
   "metadata": {},
   "outputs": [
    {
     "data": {
      "image/png": "[encoded data removed]",
      "text/plain": [
       "<Figure size 640x480 with 1 Axes>"
      ]
     },
     "metadata": {},
     "output_type": "display_data"
    }
   ],
   "source": [
    "dom = np.linspace(-1,1,100)\n",
    "plt.plot(dom, f(dom))\n",
    "plt.scatter(xs, ys, marker=\"x\")\n",
    "plt.show()"
   ]
  },
  {
   "cell_type": "markdown",
   "metadata": {},
   "source": [
    "# Get dft coefficients"
   ]
  },
  {
   "cell_type": "code",
   "execution_count": 31,
   "metadata": {},
   "outputs": [],
   "source": [
    "def gen_problem_data(f, N=30):\n",
    "\n",
    "    xs, ys = sample_function(f, N)\n",
    "\n",
    "    dft_mat = make_dft_matrix(N)\n",
    "    dft_conj_transpose_mat = make_dft_conj_transpose_matrix(N)\n",
    "\n",
    "    dftcoeffs = dft_mat @ ys\n",
    "\n",
    "    return xs, ys, dftcoeffs, dft_mat, dft_conj_transpose_mat"
   ]
  },
  {
   "cell_type": "code",
   "execution_count": 32,
   "metadata": {},
   "outputs": [],
   "source": [
    "def make_dft_matrix(N):\n",
    "    \"\"\"Builds the DFT matrix F.\n",
    "    \"\"\"\n",
    "\n",
    "    mat = np.zeros((N,N), dtype=np.complex128)\n",
    "    xjs = np.asarray([-1 + 2*(j-1)/N for j in range(1,N+1)])\n",
    "\n",
    "    for n in range(N):\n",
    "        for i in range(N):\n",
    "            mat[n,i] = (1.0/N)*np.exp( -1.0j*( (n+1) - 0.5*N - 1)*np.pi*xjs[i]  )\n",
    "\n",
    "    return mat\n",
    "\n",
    "\n",
    "def make_dft_conj_transpose_matrix(N):\n",
    "    \"\"\"Builds the unnormalized conjugate transpose DFT matrix F.\n",
    "    \"\"\"\n",
    "\n",
    "    mat = np.zeros((N,N), dtype=np.complex128)\n",
    "    xjs = np.asarray([-1 + 2*(j-1)/N for j in range(1,N+1)])\n",
    "\n",
    "    for n in range(N):\n",
    "        for i in range(N):\n",
    "            mat[n,i] = np.exp( 1.0j*( (n+1) - 0.5*N - 1)*np.pi*xjs[i]  )\n",
    "\n",
    "    return mat"
   ]
  },
  {
   "cell_type": "code",
   "execution_count": 33,
   "metadata": {},
   "outputs": [],
   "source": [
    "F = make_dft_matrix(10)\n",
    "Fct = make_dft_conj_transpose_matrix(10)"
   ]
  },
  {
   "cell_type": "code",
   "execution_count": 24,
   "metadata": {},
   "outputs": [],
   "source": [
    "data = gen_problem_data(f)"
   ]
  },
  {
   "cell_type": "code",
   "execution_count": 25,
   "metadata": {},
   "outputs": [
    {
     "data": {
      "text/plain": [
       "array([-1.00000000e+00-2.33403521e-18j, -9.33333333e-01-1.09149900e-16j,\n",
       "       -8.66666667e-01+8.12789165e-17j, -8.00000000e-01+1.87122963e-17j,\n",
       "       -7.33333333e-01+4.07393036e-17j, -6.66666667e-01+4.16977419e-17j,\n",
       "       -6.00000000e-01-3.90024596e-17j, -5.33333333e-01+6.19286450e-17j,\n",
       "       -4.66666667e-01-6.77272891e-17j, -4.00000000e-01+8.10963460e-17j,\n",
       "       -3.33333333e-01-4.96569298e-17j, -2.66666667e-01+3.07449428e-17j,\n",
       "       -2.00000000e-01-1.63401270e-17j, -1.33333333e-01+7.55923194e-17j,\n",
       "       -6.66666667e-02+5.70408103e-17j,  4.05396130e-17+3.98541987e-18j,\n",
       "        6.66666667e-02-1.78706688e-17j,  1.33333333e-01-1.04131812e-18j,\n",
       "        2.00000000e-01-1.63401270e-17j,  2.66666667e-01-4.91757800e-17j,\n",
       "        3.33333333e-01-9.71810420e-17j,  4.00000000e-01+3.34391728e-17j,\n",
       "        4.66666667e-01-4.73244217e-17j,  5.33333333e-01+2.84124348e-17j,\n",
       "        6.00000000e-01-3.90024596e-17j,  6.66666667e-01+3.24748921e-17j,\n",
       "        7.33333333e-01+2.75870574e-17j,  8.00000000e-01-4.36717534e-17j,\n",
       "        8.66666667e-01+7.51111697e-17j,  9.33333333e-01-9.40231566e-17j])"
      ]
     },
     "execution_count": 25,
     "metadata": {},
     "output_type": "execute_result"
    }
   ],
   "source": [
    "np.fft.ifft( data[2], norm=\"ortho\")"
   ]
  },
  {
   "cell_type": "code",
   "execution_count": 22,
   "metadata": {},
   "outputs": [
    {
     "data": {
      "text/plain": [
       "array([-1.        , -0.93333333, -0.86666667, -0.8       , -0.73333333,\n",
       "       -0.66666667, -0.6       , -0.53333333, -0.46666667, -0.4       ,\n",
       "       -0.33333333, -0.26666667, -0.2       , -0.13333333, -0.06666667,\n",
       "        0.        ,  0.06666667,  0.13333333,  0.2       ,  0.26666667,\n",
       "        0.33333333,  0.4       ,  0.46666667,  0.53333333,  0.6       ,\n",
       "        0.66666667,  0.73333333,  0.8       ,  0.86666667,  0.93333333])"
      ]
     },
     "execution_count": 22,
     "metadata": {},
     "output_type": "execute_result"
    }
   ],
   "source": [
    "data[1]"
   ]
  },
  {
   "cell_type": "code",
   "execution_count": null,
   "metadata": {},
   "outputs": [],
   "source": []
  },
  {
   "cell_type": "code",
   "execution_count": 34,
   "metadata": {},
   "outputs": [],
   "source": [
    "from specrepro import gegenbauer_polynomial"
   ]
  },
  {
   "cell_type": "code",
   "execution_count": 35,
   "metadata": {},
   "outputs": [],
   "source": [
    "def make_gegenbauer_matrix(N, m, lambdah=1):\n",
    "\n",
    "    mat = np.zeros((N,m+1))\n",
    "    xjs = np.asarray([-1 + 2*(j-1)/N for j in range(1,N+1)])\n",
    "\n",
    "    for i in range(N):\n",
    "        for n in range(m+1):\n",
    "            mat[i,n] = gegenbauer_polynomial( (n+1) -1, lambdah,  xjs[i])\n",
    "\n",
    "    return mat"
   ]
  },
  {
   "cell_type": "code",
   "execution_count": 36,
   "metadata": {},
   "outputs": [
    {
     "data": {
      "text/plain": [
       "array([[ 1.00000000e+00, -4.00000000e+00,  1.00000000e+01,\n",
       "        -2.00000000e+01,  3.50000000e+01, -5.60000000e+01,\n",
       "         8.40000000e+01, -1.20000000e+02,  1.65000000e+02,\n",
       "        -2.20000000e+02,  2.86000000e+02, -3.64000000e+02],\n",
       "       [ 1.00000000e+00, -3.20000000e+00,  5.68000000e+00,\n",
       "        -6.78400000e+00,  5.04800000e+00, -1.94560000e-01,\n",
       "        -6.36748800e+00,  1.18935552e+01, -1.34490394e+01,\n",
       "         9.37283584e+00, -3.57343846e-01, -1.04532604e+01],\n",
       "       [ 1.00000000e+00, -2.40000000e+00,  2.32000000e+00,\n",
       "         2.88000000e-01, -3.91200000e+00,  5.23008000e+00,\n",
       "        -2.10611200e+00, -3.83600640e+00,  7.81124864e+00,\n",
       "        -5.72654592e+00, -1.81445775e+00,  9.14302624e+00],\n",
       "       [ 1.00000000e+00, -1.60000000e+00, -8.00000000e-02,\n",
       "         2.75200000e+00, -2.63200000e+00, -1.32608000e+00,\n",
       "         4.74700800e+00, -2.63516160e+00, -3.56211456e+00,\n",
       "         6.38707712e+00, -1.34609039e+00, -6.37359407e+00],\n",
       "       [ 1.00000000e+00, -8.00000000e-01, -1.52000000e+00,\n",
       "         2.14400000e+00,  1.20800000e+00, -3.58144000e+00,\n",
       "         6.06720000e-02,  4.57697280e+00, -2.13547776e+00,\n",
       "        -4.64497664e+00,  4.60636303e+00,  3.47946852e+00],\n",
       "       [ 1.00000000e+00,  0.00000000e+00, -2.00000000e+00,\n",
       "        -0.00000000e+00,  3.00000000e+00,  0.00000000e+00,\n",
       "        -4.00000000e+00, -0.00000000e+00,  5.00000000e+00,\n",
       "         0.00000000e+00, -6.00000000e+00, -0.00000000e+00],\n",
       "       [ 1.00000000e+00,  8.00000000e-01, -1.52000000e+00,\n",
       "        -2.14400000e+00,  1.20800000e+00,  3.58144000e+00,\n",
       "         6.06720000e-02, -4.57697280e+00, -2.13547776e+00,\n",
       "         4.64497664e+00,  4.60636303e+00, -3.47946852e+00],\n",
       "       [ 1.00000000e+00,  1.60000000e+00, -8.00000000e-02,\n",
       "        -2.75200000e+00, -2.63200000e+00,  1.32608000e+00,\n",
       "         4.74700800e+00,  2.63516160e+00, -3.56211456e+00,\n",
       "        -6.38707712e+00, -1.34609039e+00,  6.37359407e+00],\n",
       "       [ 1.00000000e+00,  2.40000000e+00,  2.32000000e+00,\n",
       "        -2.88000000e-01, -3.91200000e+00, -5.23008000e+00,\n",
       "        -2.10611200e+00,  3.83600640e+00,  7.81124864e+00,\n",
       "         5.72654592e+00, -1.81445775e+00, -9.14302624e+00],\n",
       "       [ 1.00000000e+00,  3.20000000e+00,  5.68000000e+00,\n",
       "         6.78400000e+00,  5.04800000e+00,  1.94560000e-01,\n",
       "        -6.36748800e+00, -1.18935552e+01, -1.34490394e+01,\n",
       "        -9.37283584e+00, -3.57343846e-01,  1.04532604e+01]])"
      ]
     },
     "execution_count": 36,
     "metadata": {},
     "output_type": "execute_result"
    }
   ],
   "source": [
    "make_gegenbauer_matrix(10, 11, lambdah=2)"
   ]
  },
  {
   "cell_type": "code",
   "execution_count": 37,
   "metadata": {},
   "outputs": [],
   "source": [
    "from scipy.special import gamma"
   ]
  },
  {
   "cell_type": "code",
   "execution_count": null,
   "metadata": {},
   "outputs": [],
   "source": [
    "def make_fct_matrix(N, m, lambdah=1):\n",
    "\n",
    "    xjs = np.asarray([-1 + 2*(j-1)/N for j in range(1,N+1)])\n",
    "    \n",
    "    #W = np.zeros((N,N))\n",
    "    #H = np.zeros((m+1,m+1))\n",
    "\n",
    "    Hdiag = np.power( (1 - (xjs**2) ), lambdah - 0.5)\n",
    "    Wdiag = np.asarray([ np.sqrt(np.pi)*gegenbauer_polynomial(l, lambdah, 1.0)*gamma(lambdah + 0.5)/(gamma(lambdah)*gamma(l+lambdah)) for l in range(1, m+2)])\n",
    "    H = np.diag(Hdiag)\n",
    "    W = np.diag(Wdiag)\n",
    "\n",
    "    fgeg_mat = make_gegenbauer_matrix(N, m, lambdah=lambdah)\n",
    "\n",
    "    fct_mat = (2.0/N)*(H @ ( fgeg_mat.T @ W ) ) \n",
    "\n",
    "    return fct_mat"
   ]
  },
  {
   "cell_type": "code",
   "execution_count": null,
   "metadata": {},
   "outputs": [],
   "source": []
  },
  {
   "cell_type": "code",
   "execution_count": null,
   "metadata": {},
   "outputs": [],
   "source": []
  }
 ],
 "metadata": {
  "kernelspec": {
   "display_name": "jlinops",
   "language": "python",
   "name": "python3"
  },
  "language_info": {
   "codemirror_mode": {
    "name": "ipython",
    "version": 3
   },
   "file_extension": ".py",
   "mimetype": "text/x-python",
   "name": "python",
   "nbconvert_exporter": "python",
   "pygments_lexer": "ipython3",
   "version": "3.11.6"
  }
 },
 "nbformat": 4,
 "nbformat_minor": 2
}
